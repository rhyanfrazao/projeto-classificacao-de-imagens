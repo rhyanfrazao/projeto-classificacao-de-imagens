{
 "cells": [
  {
   "cell_type": "markdown",
   "id": "8e22dd1a-1285-4655-90dc-5f4a083ae145",
   "metadata": {},
   "source": [
    "# <a>Classificação de Imagens - PyTorch e Transfer Learning</a>\n",
    "\n",
    "Projeto realizado durante a Jornada Cientista de Dados da equipe <i>Let's Data</i>"
   ]
  },
  {
   "cell_type": "markdown",
   "id": "2cb445d1-c78d-429c-8649-74f048c4bab6",
   "metadata": {},
   "source": [
    "# <a>Objeto de Estudo</a>\n",
    "\n",
    "Iremos modelar um Produto Mínimo Viável que possa ser testado nas filiais de uma empresa do ramo de supermercados. O problema a ser solucionado é classificar produtos na hora de colocar no mostruário. Vamos começar com uma classificação simples de batatas, cenouras, tomates e limões.\n",
    "\n",
    "Para isso iremos usar modelos pré-treinados para nos ajudar com a classificação de imagens através dos padrões."
   ]
  },
  {
   "cell_type": "markdown",
   "id": "620f8ab2-7ec8-49cd-97ca-b6f531adb03a",
   "metadata": {},
   "source": [
    "<b>Criação e Separação de Bases:</b>"
   ]
  },
  {
   "cell_type": "code",
   "execution_count": 1,
   "id": "e6f4f496-fc7d-4e8b-abbe-d117ce6063ea",
   "metadata": {},
   "outputs": [
    {
     "name": "stdout",
     "output_type": "stream",
     "text": [
      "Requirement already satisfied: tbb in c:\\users\\rhyan\\anaconda3\\lib\\site-packages (0.2)\n"
     ]
    }
   ],
   "source": [
    "!pip install tbb"
   ]
  },
  {
   "cell_type": "code",
   "execution_count": 2,
   "id": "589beee1-e16a-4b7a-90fe-5873fcedd5f7",
   "metadata": {},
   "outputs": [
    {
     "name": "stdout",
     "output_type": "stream",
     "text": [
      "Requirement already satisfied: torch in c:\\users\\rhyan\\anaconda3\\lib\\site-packages (1.12.1)\n",
      "Collecting torchvision\n",
      "  Using cached torchvision-0.18.1-cp310-cp310-win_amd64.whl (1.2 MB)\n",
      "Requirement already satisfied: typing_extensions in c:\\users\\rhyan\\anaconda3\\lib\\site-packages (from torch) (4.4.0)\n",
      "Requirement already satisfied: numpy in c:\\users\\rhyan\\anaconda3\\lib\\site-packages (from torchvision) (1.23.5)\n",
      "Collecting torch\n",
      "  Using cached torch-2.3.1-cp310-cp310-win_amd64.whl (159.8 MB)\n",
      "Requirement already satisfied: pillow!=8.3.*,>=5.3.0 in c:\\users\\rhyan\\anaconda3\\lib\\site-packages (from torchvision) (9.4.0)\n",
      "Collecting mkl<=2021.4.0,>=2021.1.1\n",
      "  Using cached mkl-2021.4.0-py2.py3-none-win_amd64.whl (228.5 MB)\n",
      "Requirement already satisfied: networkx in c:\\users\\rhyan\\anaconda3\\lib\\site-packages (from torch) (2.8.4)\n",
      "Requirement already satisfied: fsspec in c:\\users\\rhyan\\anaconda3\\lib\\site-packages (from torch) (2022.11.0)\n",
      "Requirement already satisfied: jinja2 in c:\\users\\rhyan\\anaconda3\\lib\\site-packages (from torch) (3.1.2)\n",
      "Requirement already satisfied: filelock in c:\\users\\rhyan\\anaconda3\\lib\\site-packages (from torch) (3.12.2)\n",
      "Requirement already satisfied: sympy in c:\\users\\rhyan\\anaconda3\\lib\\site-packages (from torch) (1.11.1)\n",
      "Collecting typing_extensions\n",
      "  Using cached typing_extensions-4.12.2-py3-none-any.whl (37 kB)\n",
      "Collecting intel-openmp==2021.*\n",
      "  Using cached intel_openmp-2021.4.0-py2.py3-none-win_amd64.whl (3.5 MB)\n",
      "Collecting tbb==2021.*\n",
      "  Using cached tbb-2021.13.0-py3-none-win_amd64.whl (286 kB)\n",
      "Requirement already satisfied: MarkupSafe>=2.0 in c:\\users\\rhyan\\anaconda3\\lib\\site-packages (from jinja2->torch) (2.1.1)\n",
      "Requirement already satisfied: mpmath>=0.19 in c:\\users\\rhyan\\anaconda3\\lib\\site-packages (from sympy->torch) (1.2.1)\n",
      "Installing collected packages: tbb, intel-openmp, typing_extensions, mkl, torch, torchvision\n",
      "  Attempting uninstall: tbb\n",
      "    Found existing installation: TBB 0.2\n"
     ]
    },
    {
     "name": "stderr",
     "output_type": "stream",
     "text": [
      "ERROR: Cannot uninstall 'TBB'. It is a distutils installed project and thus we cannot accurately determine which files belong to it which would lead to only a partial uninstall.\n"
     ]
    }
   ],
   "source": [
    "!pip install torch torchvision"
   ]
  },
  {
   "cell_type": "code",
   "execution_count": 3,
   "id": "9f6d5f8f-bfea-4273-a16c-c5399f98d6b4",
   "metadata": {},
   "outputs": [
    {
     "name": "stdout",
     "output_type": "stream",
     "text": [
      "Requirement already satisfied: pillow in c:\\users\\rhyan\\anaconda3\\lib\\site-packages (9.4.0)\n"
     ]
    }
   ],
   "source": [
    "!pip install pillow"
   ]
  },
  {
   "cell_type": "code",
   "execution_count": 4,
   "id": "8089f6ed-f80e-45c2-a0de-1256dd56f827",
   "metadata": {},
   "outputs": [],
   "source": [
    "# Importando as bibliotecas necessárias:\n",
    "from matplotlib import pyplot as plt\n",
    "import numpy as np\n",
    "import os\n",
    "import PIL.Image"
   ]
  },
  {
   "cell_type": "code",
   "execution_count": 5,
   "id": "2ff5ca8a-778d-4466-916b-1e0041dcb8c0",
   "metadata": {},
   "outputs": [
    {
     "ename": "ModuleNotFoundError",
     "evalue": "No module named 'torchvision'",
     "output_type": "error",
     "traceback": [
      "\u001b[1;31m---------------------------------------------------------------------------\u001b[0m",
      "\u001b[1;31mModuleNotFoundError\u001b[0m                       Traceback (most recent call last)",
      "Cell \u001b[1;32mIn[5], line 2\u001b[0m\n\u001b[0;32m      1\u001b[0m \u001b[38;5;28;01mimport\u001b[39;00m \u001b[38;5;21;01mtime\u001b[39;00m\n\u001b[1;32m----> 2\u001b[0m \u001b[38;5;28;01mimport\u001b[39;00m \u001b[38;5;21;01mtorch\u001b[39;00m\u001b[38;5;241m,\u001b[39m \u001b[38;5;21;01mtorchvision\u001b[39;00m\n\u001b[0;32m      3\u001b[0m \u001b[38;5;28;01mfrom\u001b[39;00m \u001b[38;5;21;01mtorchvision\u001b[39;00m \u001b[38;5;28;01mimport\u001b[39;00m datasets, models, transforms\n\u001b[0;32m      4\u001b[0m \u001b[38;5;28;01mfrom\u001b[39;00m \u001b[38;5;21;01mtorch\u001b[39;00m\u001b[38;5;21;01m.\u001b[39;00m\u001b[38;5;21;01mutils\u001b[39;00m\u001b[38;5;21;01m.\u001b[39;00m\u001b[38;5;21;01mdata\u001b[39;00m \u001b[38;5;28;01mimport\u001b[39;00m DataLoader\n",
      "\u001b[1;31mModuleNotFoundError\u001b[0m: No module named 'torchvision'"
     ]
    }
   ],
   "source": [
    "import time\n",
    "import torch, torchvision\n",
    "from torchvision import datasets, models, transforms\n",
    "from torch.utils.data import DataLoader\n",
    "import torch.nn as nn\n",
    "import torch.optim as optim"
   ]
  },
  {
   "cell_type": "code",
   "execution_count": 8,
   "id": "677c96fb-2c8e-4fd7-a8ab-a99a1c6e68c7",
   "metadata": {},
   "outputs": [
    {
     "data": {
      "text/plain": [
       "['batata', 'cenoura', 'limao', 'tomate']"
      ]
     },
     "execution_count": 8,
     "metadata": {},
     "output_type": "execute_result"
    }
   ],
   "source": [
    "# Vamos separar as imagens em bases de treino, validação e teste\n",
    "# Mas antes vamos deixar salva uma pasta raw com as originais\n",
    "\n",
    "diretorio_base_imagens = 'C:\\\\data_science\\\\projeto-classificacao-imagens\\\\data\\\\raw'\n",
    "pastas_com_nome_de_vegetais = os.listdir('C:\\\\data_science\\\\projeto-classificacao-imagens\\\\data\\\\raw')\n",
    "pastas_com_nome_de_vegetais"
   ]
  },
  {
   "cell_type": "code",
   "execution_count": 9,
   "id": "8e78a26a-3503-469e-a693-c99c016c0e0e",
   "metadata": {},
   "outputs": [
    {
     "data": {
      "text/plain": [
       "['batata', 'cenoura', 'limao', 'tomate']"
      ]
     },
     "execution_count": 9,
     "metadata": {},
     "output_type": "execute_result"
    }
   ],
   "source": [
    "pastas_com_nome_de_vegetais"
   ]
  },
  {
   "cell_type": "code",
   "execution_count": 11,
   "id": "c457581a-dcce-445d-bd38-63855b5241b1",
   "metadata": {},
   "outputs": [
    {
     "data": {
      "text/plain": [
       "{'batata': 146, 'cenoura': 181, 'limao': 111, 'tomate': 107}"
      ]
     },
     "execution_count": 11,
     "metadata": {},
     "output_type": "execute_result"
    }
   ],
   "source": [
    "# Vamos criar uma separação estratificada:\n",
    "# Queremos 80% das imagens na base de treino, 10% na validação e 10% no teste\n",
    "\n",
    "quantidade_por_label = {pasta: len(os.listdir(os.path.join(diretorio_base_imagens, pasta))) for pasta in pastas_com_nome_de_vegetais}\n",
    "quantidade_por_label"
   ]
  },
  {
   "cell_type": "code",
   "execution_count": 12,
   "id": "f65d0842-cf44-4c65-97b9-26f47a3b1c4c",
   "metadata": {},
   "outputs": [],
   "source": [
    "# Criando as pastas de treino, validação e testes\n",
    "\n",
    "diretorio_imagens_processadas = 'C:\\\\data_science\\\\projeto-classificacao-imagens\\\\data\\\\processed'\n",
    "\n",
    "dir_treino = os.path.join(diretorio_imagens_processadas, 'treino')\n",
    "dir_validacao = os.path.join(diretorio_imagens_processadas, 'validacao')\n",
    "dir_teste = os.path.join(diretorio_imagens_processadas, 'teste')\n",
    "\n",
    "if not os.path.exists(dir_treino):\n",
    "    os.makedirs(dir_treino)\n",
    "\n",
    "if not os.path.exists(dir_validacao):    \n",
    "    os.makedirs(dir_validacao)\n",
    "\n",
    "if not os.path.exists(dir_teste):\n",
    "    os.makedirs(dir_teste)"
   ]
  },
  {
   "cell_type": "code",
   "execution_count": 13,
   "id": "8fad67e1-776e-421d-8185-0bce0ee11eb0",
   "metadata": {},
   "outputs": [
    {
     "name": "stdout",
     "output_type": "stream",
     "text": [
      "batata - treino: 116 - valid: 15 - teste: 15 - total: 146\n",
      "cenoura - treino: 144 - valid: 18 - teste: 19 - total: 181\n",
      "limao - treino: 88 - valid: 11 - teste: 12 - total: 111\n",
      "tomate - treino: 85 - valid: 11 - teste: 11 - total: 107\n"
     ]
    }
   ],
   "source": [
    "import shutil\n",
    "from sklearn.model_selection import train_test_split\n",
    "\n",
    "# Criando uma pasta para cada classe (batata, cenoura, limao, tomate)\n",
    "# dentro de treino, validação e teste\n",
    "\n",
    "for classe in pastas_com_nome_de_vegetais:\n",
    "    # os.path.join cria paths com os separadores corretos pra cada sistema operacional\n",
    "    # barra normal, barra invertida, isso muda do Windows pro Linux/Mac\n",
    "    dir_classe_treino = os.path.join(dir_treino, classe)\n",
    "    dir_classe_validacao = os.path.join(dir_validacao, classe)\n",
    "    dir_classe_teste = os.path.join(dir_teste, classe)\n",
    "    \n",
    "    # Efetivamente criando as pastas de treino, validação e teste\n",
    "    # Testa primeiro se as pastas já não existem\n",
    "    if not os.path.exists(dir_classe_treino):\n",
    "        os.makedirs(dir_classe_treino)\n",
    "\n",
    "    if not os.path.exists(dir_classe_validacao):\n",
    "        os.makedirs(dir_classe_validacao)\n",
    "    \n",
    "    if not os.path.exists(dir_classe_teste):\n",
    "        os.makedirs(dir_classe_teste)\n",
    "    \n",
    "    # caminho completo para a pasta com imagens originais\n",
    "    pasta_classe = os.path.join(diretorio_base_imagens, classe)\n",
    "    \n",
    "    # listando todos os arquivos de imagem para essa classe\n",
    "    arquivos_classe = os.listdir(pasta_classe)\n",
    "    \n",
    "    # separando 80% para treino e 20% para validação+teste\n",
    "    treino, valid_teste = train_test_split(arquivos_classe, \n",
    "                                           shuffle=True, \n",
    "                                           test_size=0.2, \n",
    "                                           random_state=42)\n",
    "    \n",
    "    # separando os 20% da validação+teste em 10% para validação e 10% para teste\n",
    "    validacao, teste = train_test_split(valid_teste, shuffle=True, test_size=0.5, random_state=42)\n",
    "    \n",
    "    # Não precisamos mais dessa lista temporária\n",
    "    del valid_teste\n",
    "    \n",
    "    print(f'{classe} - treino: {len(treino)} - valid: {len(validacao)} - teste: {len(teste)} - total: {len(arquivos_classe)}')\n",
    "    \n",
    "    # Copiando os arquivos efetivamente para as pastas de treino, validação e teste\n",
    "    for imagem_treino in treino:\n",
    "        caminho_origem = os.path.join(diretorio_base_imagens, classe, imagem_treino)\n",
    "        caminho_destino = os.path.join(dir_classe_treino, imagem_treino)\n",
    "\n",
    "        shutil.copy(caminho_origem, caminho_destino)\n",
    "\n",
    "    for imagem_validacao in validacao:\n",
    "        caminho_origem = os.path.join(diretorio_base_imagens, classe, imagem_validacao)\n",
    "        caminho_destino = os.path.join(dir_classe_validacao, imagem_validacao)\n",
    "\n",
    "        shutil.copy(caminho_origem, caminho_destino)\n",
    "\n",
    "    for imagem_teste in teste:\n",
    "        caminho_origem = os.path.join(diretorio_base_imagens, classe, imagem_teste)\n",
    "        caminho_destino = os.path.join(dir_classe_teste, imagem_teste)\n",
    "\n",
    "        shutil.copy(caminho_origem, caminho_destino)  "
   ]
  },
  {
   "cell_type": "code",
   "execution_count": null,
   "id": "42bc7825-0480-44bc-8388-38dd04cd5f61",
   "metadata": {},
   "outputs": [],
   "source": []
  }
 ],
 "metadata": {
  "kernelspec": {
   "display_name": "Python 3 (ipykernel)",
   "language": "python",
   "name": "python3"
  },
  "language_info": {
   "codemirror_mode": {
    "name": "ipython",
    "version": 3
   },
   "file_extension": ".py",
   "mimetype": "text/x-python",
   "name": "python",
   "nbconvert_exporter": "python",
   "pygments_lexer": "ipython3",
   "version": "3.10.9"
  }
 },
 "nbformat": 4,
 "nbformat_minor": 5
}
