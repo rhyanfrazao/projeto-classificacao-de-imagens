{
 "cells": [
  {
   "cell_type": "markdown",
   "id": "8e22dd1a-1285-4655-90dc-5f4a083ae145",
   "metadata": {},
   "source": [
    "# <a>Classificação de Imagens - PyTorch e Transfer Learning</a>\n",
    "\n",
    "Projeto realizado durante a Jornada Cientista de Dados da equipe <i>Let's Data</i>"
   ]
  },
  {
   "cell_type": "markdown",
   "id": "2cb445d1-c78d-429c-8649-74f048c4bab6",
   "metadata": {},
   "source": [
    "# <a>Objeto de Estudo</a>\n",
    "\n",
    "Iremos modelar um Produto Mínimo Viável que possa ser testado nas filiais de uma empresa do ramo de supermercados. O problema a ser solucionado é classificar produtos na hora de colocar no mostruário. Vamos começar com uma classificação simples de batatas, cenouras, tomates e limões.\n",
    "\n",
    "Para isso iremos usar modelos pré-treinados para nos ajudar com a classificação de imagens através dos padrões."
   ]
  },
  {
   "cell_type": "markdown",
   "id": "620f8ab2-7ec8-49cd-97ca-b6f531adb03a",
   "metadata": {},
   "source": [
    "<b>Criação e Separação de Bases:</b>"
   ]
  },
  {
   "cell_type": "code",
   "execution_count": 1,
   "id": "e6f4f496-fc7d-4e8b-abbe-d117ce6063ea",
   "metadata": {},
   "outputs": [
    {
     "name": "stdout",
     "output_type": "stream",
     "text": [
      "Requirement already satisfied: tbb in c:\\users\\rhyan\\anaconda3\\lib\\site-packages (2021.13.0)\n"
     ]
    }
   ],
   "source": [
    "!pip install tbb"
   ]
  },
  {
   "cell_type": "code",
   "execution_count": 2,
   "id": "9f6d5f8f-bfea-4273-a16c-c5399f98d6b4",
   "metadata": {},
   "outputs": [
    {
     "name": "stdout",
     "output_type": "stream",
     "text": [
      "Requirement already satisfied: pillow in c:\\users\\rhyan\\anaconda3\\lib\\site-packages (9.4.0)\n"
     ]
    }
   ],
   "source": [
    "!pip install pillow"
   ]
  },
  {
   "cell_type": "code",
   "execution_count": 3,
   "id": "6bfb279b-f3b5-4417-975f-39633277cac5",
   "metadata": {},
   "outputs": [
    {
     "name": "stdout",
     "output_type": "stream",
     "text": [
      "Requirement already satisfied: torch in c:\\users\\rhyan\\appdata\\roaming\\python\\python310\\site-packages (2.3.1)\n",
      "Requirement already satisfied: filelock in c:\\users\\rhyan\\anaconda3\\lib\\site-packages (from torch) (3.12.2)\n",
      "Requirement already satisfied: sympy in c:\\users\\rhyan\\anaconda3\\lib\\site-packages (from torch) (1.11.1)\n",
      "Requirement already satisfied: fsspec in c:\\users\\rhyan\\anaconda3\\lib\\site-packages (from torch) (2022.11.0)\n",
      "Requirement already satisfied: networkx in c:\\users\\rhyan\\anaconda3\\lib\\site-packages (from torch) (2.8.4)\n",
      "Requirement already satisfied: typing-extensions>=4.8.0 in c:\\users\\rhyan\\anaconda3\\lib\\site-packages (from torch) (4.12.2)\n",
      "Requirement already satisfied: jinja2 in c:\\users\\rhyan\\anaconda3\\lib\\site-packages (from torch) (3.1.2)\n",
      "Requirement already satisfied: mkl<=2021.4.0,>=2021.1.1 in c:\\users\\rhyan\\anaconda3\\lib\\site-packages (from torch) (2021.4.0)\n",
      "Requirement already satisfied: intel-openmp==2021.* in c:\\users\\rhyan\\anaconda3\\lib\\site-packages (from mkl<=2021.4.0,>=2021.1.1->torch) (2021.4.0)\n",
      "Requirement already satisfied: tbb==2021.* in c:\\users\\rhyan\\anaconda3\\lib\\site-packages (from mkl<=2021.4.0,>=2021.1.1->torch) (2021.13.0)\n",
      "Requirement already satisfied: MarkupSafe>=2.0 in c:\\users\\rhyan\\anaconda3\\lib\\site-packages (from jinja2->torch) (2.1.1)\n",
      "Requirement already satisfied: mpmath>=0.19 in c:\\users\\rhyan\\anaconda3\\lib\\site-packages (from sympy->torch) (1.2.1)\n"
     ]
    }
   ],
   "source": [
    "!pip install torch"
   ]
  },
  {
   "cell_type": "code",
   "execution_count": 4,
   "id": "23bae816-e3d8-4d85-a537-d34dd3c44c14",
   "metadata": {},
   "outputs": [
    {
     "name": "stdout",
     "output_type": "stream",
     "text": [
      "Requirement already satisfied: torchvision in c:\\users\\rhyan\\appdata\\roaming\\python\\python310\\site-packages (0.18.1)\n",
      "Requirement already satisfied: torch==2.3.1 in c:\\users\\rhyan\\appdata\\roaming\\python\\python310\\site-packages (from torchvision) (2.3.1)\n",
      "Requirement already satisfied: numpy in c:\\users\\rhyan\\anaconda3\\lib\\site-packages (from torchvision) (1.23.5)\n",
      "Requirement already satisfied: pillow!=8.3.*,>=5.3.0 in c:\\users\\rhyan\\anaconda3\\lib\\site-packages (from torchvision) (9.4.0)\n",
      "Requirement already satisfied: fsspec in c:\\users\\rhyan\\anaconda3\\lib\\site-packages (from torch==2.3.1->torchvision) (2022.11.0)\n",
      "Requirement already satisfied: mkl<=2021.4.0,>=2021.1.1 in c:\\users\\rhyan\\anaconda3\\lib\\site-packages (from torch==2.3.1->torchvision) (2021.4.0)\n",
      "Requirement already satisfied: networkx in c:\\users\\rhyan\\anaconda3\\lib\\site-packages (from torch==2.3.1->torchvision) (2.8.4)\n",
      "Requirement already satisfied: filelock in c:\\users\\rhyan\\anaconda3\\lib\\site-packages (from torch==2.3.1->torchvision) (3.12.2)\n",
      "Requirement already satisfied: sympy in c:\\users\\rhyan\\anaconda3\\lib\\site-packages (from torch==2.3.1->torchvision) (1.11.1)\n",
      "Requirement already satisfied: jinja2 in c:\\users\\rhyan\\anaconda3\\lib\\site-packages (from torch==2.3.1->torchvision) (3.1.2)\n",
      "Requirement already satisfied: typing-extensions>=4.8.0 in c:\\users\\rhyan\\anaconda3\\lib\\site-packages (from torch==2.3.1->torchvision) (4.12.2)\n",
      "Requirement already satisfied: intel-openmp==2021.* in c:\\users\\rhyan\\anaconda3\\lib\\site-packages (from mkl<=2021.4.0,>=2021.1.1->torch==2.3.1->torchvision) (2021.4.0)\n",
      "Requirement already satisfied: tbb==2021.* in c:\\users\\rhyan\\anaconda3\\lib\\site-packages (from mkl<=2021.4.0,>=2021.1.1->torch==2.3.1->torchvision) (2021.13.0)\n",
      "Requirement already satisfied: MarkupSafe>=2.0 in c:\\users\\rhyan\\anaconda3\\lib\\site-packages (from jinja2->torch==2.3.1->torchvision) (2.1.1)\n",
      "Requirement already satisfied: mpmath>=0.19 in c:\\users\\rhyan\\anaconda3\\lib\\site-packages (from sympy->torch==2.3.1->torchvision) (1.2.1)\n"
     ]
    }
   ],
   "source": [
    "!pip install torchvision --user"
   ]
  },
  {
   "cell_type": "code",
   "execution_count": 5,
   "id": "ca3f20cd-9050-4fbe-bf4f-ec1a82d93ec8",
   "metadata": {},
   "outputs": [
    {
     "name": "stdout",
     "output_type": "stream",
     "text": [
      "Name: torchvision\n",
      "Version: 0.18.1\n",
      "Summary: image and video datasets and models for torch deep learning\n",
      "Home-page: https://github.com/pytorch/vision\n",
      "Author: PyTorch Core Team\n",
      "Author-email: soumith@pytorch.org\n",
      "License: BSD\n",
      "Location: c:\\users\\rhyan\\appdata\\roaming\\python\\python310\\site-packages\n",
      "Requires: numpy, pillow, torch\n",
      "Required-by: \n"
     ]
    }
   ],
   "source": [
    "!pip show torchvision"
   ]
  },
  {
   "cell_type": "code",
   "execution_count": 6,
   "id": "8089f6ed-f80e-45c2-a0de-1256dd56f827",
   "metadata": {},
   "outputs": [],
   "source": [
    "# Importando as bibliotecas necessárias:\n",
    "from matplotlib import pyplot as plt\n",
    "import numpy as np\n",
    "import os\n",
    "import PIL.Image"
   ]
  },
  {
   "cell_type": "code",
   "execution_count": 7,
   "id": "1e68e06b-64c0-46f4-bee4-6729e034edc2",
   "metadata": {},
   "outputs": [],
   "source": [
    "import time\n",
    "import torch\n",
    "import torchvision\n",
    "from torchvision import datasets, models, transforms\n",
    "from torch.utils.data import DataLoader\n",
    "import torch.nn as nn\n",
    "import torch.optim as optim"
   ]
  },
  {
   "cell_type": "code",
   "execution_count": 8,
   "id": "677c96fb-2c8e-4fd7-a8ab-a99a1c6e68c7",
   "metadata": {},
   "outputs": [
    {
     "data": {
      "text/plain": [
       "['batata', 'cenoura', 'limao', 'tomate']"
      ]
     },
     "execution_count": 8,
     "metadata": {},
     "output_type": "execute_result"
    }
   ],
   "source": [
    "# Vamos separar as imagens em bases de treino, validação e teste\n",
    "# Mas antes vamos deixar salva uma pasta raw com as originais\n",
    "\n",
    "diretorio_base_imagens = 'C:\\\\data_science\\\\projeto-classificacao-imagens\\\\data\\\\raw'\n",
    "pastas_com_nome_de_vegetais = os.listdir('C:\\\\data_science\\\\projeto-classificacao-imagens\\\\data\\\\raw')\n",
    "pastas_com_nome_de_vegetais"
   ]
  },
  {
   "cell_type": "code",
   "execution_count": 9,
   "id": "8e78a26a-3503-469e-a693-c99c016c0e0e",
   "metadata": {},
   "outputs": [
    {
     "data": {
      "text/plain": [
       "['batata', 'cenoura', 'limao', 'tomate']"
      ]
     },
     "execution_count": 9,
     "metadata": {},
     "output_type": "execute_result"
    }
   ],
   "source": [
    "pastas_com_nome_de_vegetais"
   ]
  },
  {
   "cell_type": "code",
   "execution_count": 10,
   "id": "c457581a-dcce-445d-bd38-63855b5241b1",
   "metadata": {},
   "outputs": [
    {
     "data": {
      "text/plain": [
       "{'batata': 146, 'cenoura': 181, 'limao': 111, 'tomate': 107}"
      ]
     },
     "execution_count": 10,
     "metadata": {},
     "output_type": "execute_result"
    }
   ],
   "source": [
    "# Vamos criar uma separação estratificada:\n",
    "# Queremos 80% das imagens na base de treino, 10% na validação e 10% no teste\n",
    "\n",
    "quantidade_por_label = {pasta: len(os.listdir(os.path.join(diretorio_base_imagens, pasta))) for pasta in pastas_com_nome_de_vegetais}\n",
    "quantidade_por_label"
   ]
  },
  {
   "cell_type": "code",
   "execution_count": 11,
   "id": "f65d0842-cf44-4c65-97b9-26f47a3b1c4c",
   "metadata": {},
   "outputs": [],
   "source": [
    "# Criando as pastas de treino, validação e testes\n",
    "\n",
    "diretorio_imagens_processadas = 'C:\\\\data_science\\\\projeto-classificacao-imagens\\\\data\\\\processed'\n",
    "\n",
    "dir_treino = os.path.join(diretorio_imagens_processadas, 'treino')\n",
    "dir_validacao = os.path.join(diretorio_imagens_processadas, 'validacao')\n",
    "dir_teste = os.path.join(diretorio_imagens_processadas, 'teste')\n",
    "\n",
    "if not os.path.exists(dir_treino):\n",
    "    os.makedirs(dir_treino)\n",
    "\n",
    "if not os.path.exists(dir_validacao):    \n",
    "    os.makedirs(dir_validacao)\n",
    "\n",
    "if not os.path.exists(dir_teste):\n",
    "    os.makedirs(dir_teste)"
   ]
  },
  {
   "cell_type": "code",
   "execution_count": 12,
   "id": "8fad67e1-776e-421d-8185-0bce0ee11eb0",
   "metadata": {},
   "outputs": [
    {
     "name": "stdout",
     "output_type": "stream",
     "text": [
      "batata - treino: 116 - valid: 15 - teste: 15 - total: 146\n",
      "cenoura - treino: 144 - valid: 18 - teste: 19 - total: 181\n",
      "limao - treino: 88 - valid: 11 - teste: 12 - total: 111\n",
      "tomate - treino: 85 - valid: 11 - teste: 11 - total: 107\n"
     ]
    }
   ],
   "source": [
    "#Separando as imagens nas bases:\n",
    "\n",
    "import shutil\n",
    "from sklearn.model_selection import train_test_split\n",
    "\n",
    "# Criando uma pasta para cada classe (batata, cenoura, limao, tomate)\n",
    "# dentro de treino, validação e teste\n",
    "\n",
    "for classe in pastas_com_nome_de_vegetais:\n",
    "    # os.path.join cria paths com os separadores corretos pra cada sistema operacional\n",
    "    # barra normal, barra invertida, isso muda do Windows pro Linux/Mac\n",
    "    dir_classe_treino = os.path.join(dir_treino, classe)\n",
    "    dir_classe_validacao = os.path.join(dir_validacao, classe)\n",
    "    dir_classe_teste = os.path.join(dir_teste, classe)\n",
    "    \n",
    "    # Efetivamente criando as pastas de treino, validação e teste\n",
    "    # Testa primeiro se as pastas já não existem\n",
    "    if not os.path.exists(dir_classe_treino):\n",
    "        os.makedirs(dir_classe_treino)\n",
    "\n",
    "    if not os.path.exists(dir_classe_validacao):\n",
    "        os.makedirs(dir_classe_validacao)\n",
    "    \n",
    "    if not os.path.exists(dir_classe_teste):\n",
    "        os.makedirs(dir_classe_teste)\n",
    "    \n",
    "    # caminho completo para a pasta com imagens originais\n",
    "    pasta_classe = os.path.join(diretorio_base_imagens, classe)\n",
    "    \n",
    "    # listando todos os arquivos de imagem para essa classe\n",
    "    arquivos_classe = os.listdir(pasta_classe)\n",
    "    \n",
    "    # separando 80% para treino e 20% para validação+teste\n",
    "    treino, valid_teste = train_test_split(arquivos_classe, \n",
    "                                           shuffle=True, \n",
    "                                           test_size=0.2, \n",
    "                                           random_state=42)\n",
    "    \n",
    "    # separando os 20% da validação+teste em 10% para validação e 10% para teste\n",
    "    validacao, teste = train_test_split(valid_teste, shuffle=True, test_size=0.5, random_state=42)\n",
    "    \n",
    "    # Não precisamos mais dessa lista temporária\n",
    "    del valid_teste\n",
    "    \n",
    "    print(f'{classe} - treino: {len(treino)} - valid: {len(validacao)} - teste: {len(teste)} - total: {len(arquivos_classe)}')\n",
    "    \n",
    "    # Copiando os arquivos efetivamente para as pastas de treino, validação e teste\n",
    "    for imagem_treino in treino:\n",
    "        caminho_origem = os.path.join(diretorio_base_imagens, classe, imagem_treino)\n",
    "        caminho_destino = os.path.join(dir_classe_treino, imagem_treino)\n",
    "\n",
    "        shutil.copy(caminho_origem, caminho_destino)\n",
    "\n",
    "    for imagem_validacao in validacao:\n",
    "        caminho_origem = os.path.join(diretorio_base_imagens, classe, imagem_validacao)\n",
    "        caminho_destino = os.path.join(dir_classe_validacao, imagem_validacao)\n",
    "\n",
    "        shutil.copy(caminho_origem, caminho_destino)\n",
    "\n",
    "    for imagem_teste in teste:\n",
    "        caminho_origem = os.path.join(diretorio_base_imagens, classe, imagem_teste)\n",
    "        caminho_destino = os.path.join(dir_classe_teste, imagem_teste)\n",
    "\n",
    "        shutil.copy(caminho_origem, caminho_destino)  "
   ]
  },
  {
   "cell_type": "markdown",
   "id": "39316ae6-44a8-407a-bb5c-2375b24ceac9",
   "metadata": {},
   "source": [
    "<b>Pré Processamento:</b>\n",
    "\n",
    "Vamos efetivamente processar as imagens para utilizar no modelo do Pytorch. Vamos criar as transformações para redimensionar as imagens e transformá-las em tensores Pytorch."
   ]
  },
  {
   "cell_type": "code",
   "execution_count": 13,
   "id": "1d5c1430-2f6c-4651-a715-f54f23c83183",
   "metadata": {},
   "outputs": [],
   "source": [
    "# Setando o tamanho da imagem\n",
    "image_size = 100\n",
    "\n",
    "# Transformando as imagens: para modelos mais robustos tem que caprichar no data augmentation!\n",
    "# Nesse caso não fizemos nada além do redimensionamento da imagem, mas é sempre bom fazer rotações,\n",
    "# espelhamentos, crop randomicos pra garantir \n",
    "transformacoes_de_imagens = { \n",
    "    'treino': transforms.Compose([\n",
    "        transforms.Resize(size=[image_size, image_size]),\n",
    "        transforms.ToTensor(),\n",
    "    ]),\n",
    "    'validacao': transforms.Compose([\n",
    "        transforms.Resize(size=[image_size, image_size]),\n",
    "        transforms.ToTensor(),\n",
    "    ]),\n",
    "    'teste': transforms.Compose([\n",
    "        transforms.Resize(size=[image_size, image_size]),\n",
    "        transforms.ToTensor(),\n",
    "    ])\n",
    "}"
   ]
  },
  {
   "cell_type": "code",
   "execution_count": 14,
   "id": "cccd614b-2777-4a41-8a3a-1ded2991a561",
   "metadata": {},
   "outputs": [
    {
     "data": {
      "text/plain": [
       "('C:\\\\data_science\\\\projeto-classificacao-imagens\\\\data\\\\processed\\\\treino',\n",
       " 'C:\\\\data_science\\\\projeto-classificacao-imagens\\\\data\\\\processed\\\\validacao',\n",
       " 'C:\\\\data_science\\\\projeto-classificacao-imagens\\\\data\\\\processed\\\\teste')"
      ]
     },
     "execution_count": 14,
     "metadata": {},
     "output_type": "execute_result"
    }
   ],
   "source": [
    "# Carregar as imagens\n",
    "# Determinar as pastas de treino, validação e teste\n",
    "\n",
    "pasta_treino = dir_treino\n",
    "pasta_validacao = dir_validacao\n",
    "pasta_teste = dir_teste\n",
    "\n",
    "pasta_treino, pasta_validacao, pasta_teste"
   ]
  },
  {
   "cell_type": "markdown",
   "id": "e3f90827-6d6f-40d3-920f-eed15e062699",
   "metadata": {},
   "source": [
    "<b>Preparação para o treinamento:</b>\n",
    "\n",
    "Vamos definir informações importantes para o treinamento do modelo. Tamanho do batch, número de classes, datasets, data loaders, otimizadores."
   ]
  },
  {
   "cell_type": "code",
   "execution_count": 15,
   "id": "226df0a4-9b40-43f6-ad6d-5bbb388d0ede",
   "metadata": {},
   "outputs": [
    {
     "data": {
      "text/plain": [
       "4"
      ]
     },
     "execution_count": 15,
     "metadata": {},
     "output_type": "execute_result"
    }
   ],
   "source": [
    "# Tamanho do batch de treinamento\n",
    "tamanho_do_batch = 8\n",
    "\n",
    "# Determinando o número de classes (verduras/frutas)\n",
    "numero_de_classes = len(os.listdir(pasta_treino))\n",
    "\n",
    "numero_de_classes"
   ]
  },
  {
   "cell_type": "code",
   "execution_count": 16,
   "id": "035de28c-5d47-4e8a-92e3-3b3be1b36b35",
   "metadata": {},
   "outputs": [],
   "source": [
    "# Carregar as imagens usando o datasets do torchvision\n",
    "data = {\n",
    "    'treino': datasets.ImageFolder(root=pasta_treino, transform=transformacoes_de_imagens['treino']),\n",
    "    'validacao': datasets.ImageFolder(root=pasta_validacao, transform=transformacoes_de_imagens['validacao'])\n",
    "}"
   ]
  },
  {
   "cell_type": "code",
   "execution_count": 17,
   "id": "69e647c6-9e94-4cd5-a63e-b9162f8fc6fe",
   "metadata": {},
   "outputs": [
    {
     "data": {
      "text/plain": [
       "{'treino': Dataset ImageFolder\n",
       "     Number of datapoints: 433\n",
       "     Root location: C:\\data_science\\projeto-classificacao-imagens\\data\\processed\\treino\n",
       "     StandardTransform\n",
       " Transform: Compose(\n",
       "                Resize(size=[100, 100], interpolation=bilinear, max_size=None, antialias=True)\n",
       "                ToTensor()\n",
       "            ),\n",
       " 'validacao': Dataset ImageFolder\n",
       "     Number of datapoints: 55\n",
       "     Root location: C:\\data_science\\projeto-classificacao-imagens\\data\\processed\\validacao\n",
       "     StandardTransform\n",
       " Transform: Compose(\n",
       "                Resize(size=[100, 100], interpolation=bilinear, max_size=None, antialias=True)\n",
       "                ToTensor()\n",
       "            )}"
      ]
     },
     "execution_count": 17,
     "metadata": {},
     "output_type": "execute_result"
    }
   ],
   "source": [
    "data"
   ]
  },
  {
   "cell_type": "code",
   "execution_count": 18,
   "id": "d422b6d9-d053-44d6-9746-0910ba1fc096",
   "metadata": {},
   "outputs": [
    {
     "data": {
      "text/plain": [
       "{0: 'batata', 1: 'cenoura', 2: 'limao', 3: 'tomate'}"
      ]
     },
     "execution_count": 18,
     "metadata": {},
     "output_type": "execute_result"
    }
   ],
   "source": [
    "# Mapear os índices com os nomes das classes\n",
    "indice_para_classe = {indice: classe for classe, indice in data['treino'].class_to_idx.items()}\n",
    "\n",
    "indice_para_classe"
   ]
  },
  {
   "cell_type": "code",
   "execution_count": 19,
   "id": "47a74a1b-fcfb-42fb-a60d-520af224d1a3",
   "metadata": {},
   "outputs": [
    {
     "data": {
      "text/plain": [
       "(433, 55)"
      ]
     },
     "execution_count": 19,
     "metadata": {},
     "output_type": "execute_result"
    }
   ],
   "source": [
    "# Quantidade de imagens para serem utilizados para calcular erro médio e acurácia\n",
    "num_imagens_treino = len(data['treino'])\n",
    "num_imagens_validacao = len(data['validacao'])\n",
    "\n",
    "num_imagens_treino, num_imagens_validacao"
   ]
  },
  {
   "cell_type": "code",
   "execution_count": 20,
   "id": "71f79d23-929e-414e-9aed-230617dc9e17",
   "metadata": {},
   "outputs": [],
   "source": [
    "# Cria os DataLoaders para treino e validação\n",
    "# O DataLoader organiza os dados de treinamento e validação para o treinamento da rede neural\n",
    "data_loader_treino = DataLoader(data['treino'], batch_size=tamanho_do_batch, shuffle=True)\n",
    "data_loader_validacao = DataLoader(data['validacao'], batch_size=tamanho_do_batch, shuffle=True)"
   ]
  },
  {
   "cell_type": "code",
   "execution_count": 21,
   "id": "e10d35ac-1976-4a27-87c1-1ab4daa35d55",
   "metadata": {},
   "outputs": [
    {
     "data": {
      "image/jpeg": "[encoded data removed]",
      "text/plain": [
       "<IPython.core.display.Image object>"
      ]
     },
     "metadata": {},
     "output_type": "display_data"
    },
    {
     "data": {
      "image/jpeg": "[encoded data removed]",
      "text/plain": [
       "<IPython.core.display.Image object>"
      ]
     },
     "metadata": {},
     "output_type": "display_data"
    },
    {
     "data": {
      "image/jpeg": "[encoded data removed]",
      "text/plain": [
       "<IPython.core.display.Image object>"
      ]
     },
     "metadata": {},
     "output_type": "display_data"
    },
    {
     "data": {
      "image/jpeg": "[encoded data removed]",
      "text/plain": [
       "<IPython.core.display.Image object>"
      ]
     },
     "metadata": {},
     "output_type": "display_data"
    }
   ],
   "source": [
    "# Checando algumas imagens para verificar se está tudo correto até aqui:\n",
    "from IPython.display import Image \n",
    "\n",
    "for classe in indice_para_classe.values():\n",
    "    pasta_classe = os.path.join(pasta_treino, classe)\n",
    "    arquivo_imagem = os.listdir(pasta_classe)[1]\n",
    "    img = Image(filename=os.path.join(pasta_classe, arquivo_imagem))\n",
    "    display(img)"
   ]
  },
  {
   "cell_type": "markdown",
   "id": "7c5aaeba-ae0c-4545-92ed-0fa1daa70b28",
   "metadata": {},
   "source": [
    "<b>Transfer Learning:</b>\n",
    "\n",
    "Como temos poucas imagens precisamos de uma rede pré-treinada para nos ajudar na classificação. Vamos usar a Alexnet."
   ]
  },
  {
   "cell_type": "code",
   "execution_count": 22,
   "id": "cfcf5f9d-7a77-4935-bd22-62fce743d9a0",
   "metadata": {},
   "outputs": [
    {
     "name": "stderr",
     "output_type": "stream",
     "text": [
      "C:\\Users\\rhyan\\AppData\\Roaming\\Python\\Python310\\site-packages\\torchvision\\models\\_utils.py:208: UserWarning: The parameter 'pretrained' is deprecated since 0.13 and may be removed in the future, please use 'weights' instead.\n",
      "  warnings.warn(\n",
      "C:\\Users\\rhyan\\AppData\\Roaming\\Python\\Python310\\site-packages\\torchvision\\models\\_utils.py:223: UserWarning: Arguments other than a weight enum or `None` for 'weights' are deprecated since 0.13 and may be removed in the future. The current behavior is equivalent to passing `weights=AlexNet_Weights.IMAGENET1K_V1`. You can also use `weights=AlexNet_Weights.DEFAULT` to get the most up-to-date weights.\n",
      "  warnings.warn(msg)\n",
      "Downloading: \"https://download.pytorch.org/models/alexnet-owt-7be5be79.pth\" to C:\\Users\\rhyan/.cache\\torch\\hub\\checkpoints\\alexnet-owt-7be5be79.pth\n",
      "100%|██████████| 233M/233M [00:52<00:00, 4.66MB/s] \n"
     ]
    },
    {
     "data": {
      "text/plain": [
       "AlexNet(\n",
       "  (features): Sequential(\n",
       "    (0): Conv2d(3, 64, kernel_size=(11, 11), stride=(4, 4), padding=(2, 2))\n",
       "    (1): ReLU(inplace=True)\n",
       "    (2): MaxPool2d(kernel_size=3, stride=2, padding=0, dilation=1, ceil_mode=False)\n",
       "    (3): Conv2d(64, 192, kernel_size=(5, 5), stride=(1, 1), padding=(2, 2))\n",
       "    (4): ReLU(inplace=True)\n",
       "    (5): MaxPool2d(kernel_size=3, stride=2, padding=0, dilation=1, ceil_mode=False)\n",
       "    (6): Conv2d(192, 384, kernel_size=(3, 3), stride=(1, 1), padding=(1, 1))\n",
       "    (7): ReLU(inplace=True)\n",
       "    (8): Conv2d(384, 256, kernel_size=(3, 3), stride=(1, 1), padding=(1, 1))\n",
       "    (9): ReLU(inplace=True)\n",
       "    (10): Conv2d(256, 256, kernel_size=(3, 3), stride=(1, 1), padding=(1, 1))\n",
       "    (11): ReLU(inplace=True)\n",
       "    (12): MaxPool2d(kernel_size=3, stride=2, padding=0, dilation=1, ceil_mode=False)\n",
       "  )\n",
       "  (avgpool): AdaptiveAvgPool2d(output_size=(6, 6))\n",
       "  (classifier): Sequential(\n",
       "    (0): Dropout(p=0.5, inplace=False)\n",
       "    (1): Linear(in_features=9216, out_features=4096, bias=True)\n",
       "    (2): ReLU(inplace=True)\n",
       "    (3): Dropout(p=0.5, inplace=False)\n",
       "    (4): Linear(in_features=4096, out_features=4096, bias=True)\n",
       "    (5): ReLU(inplace=True)\n",
       "    (6): Linear(in_features=4096, out_features=1000, bias=True)\n",
       "  )\n",
       ")"
      ]
     },
     "execution_count": 22,
     "metadata": {},
     "output_type": "execute_result"
    }
   ],
   "source": [
    "alexnet = models.alexnet(pretrained=True)\n",
    "alexnet"
   ]
  },
  {
   "cell_type": "code",
   "execution_count": 23,
   "id": "384aa24c-de76-422a-809c-9d777ce979d2",
   "metadata": {},
   "outputs": [
    {
     "data": {
      "text/plain": [
       "torchvision.models.alexnet.AlexNet"
      ]
     },
     "execution_count": 23,
     "metadata": {},
     "output_type": "execute_result"
    }
   ],
   "source": [
    "type(alexnet)"
   ]
  },
  {
   "cell_type": "code",
   "execution_count": 24,
   "id": "7d175b57-5d3f-4189-97da-abbe038afe7f",
   "metadata": {},
   "outputs": [],
   "source": [
    "# Vamos congelar os parâmetros da rede pré-treinada, para que eles não aprendam tudo de novo:\n",
    "for param in alexnet.parameters():\n",
    "    param.requires_grad = False\n",
    "# Isso vai desligar o treinamento e atualização dos coeficientes das camadas da rede neural"
   ]
  },
  {
   "cell_type": "code",
   "execution_count": 25,
   "id": "163c66cc-c626-4073-9acd-45a39f0b66c1",
   "metadata": {},
   "outputs": [
    {
     "data": {
      "text/plain": [
       "AlexNet(\n",
       "  (features): Sequential(\n",
       "    (0): Conv2d(3, 64, kernel_size=(11, 11), stride=(4, 4), padding=(2, 2))\n",
       "    (1): ReLU(inplace=True)\n",
       "    (2): MaxPool2d(kernel_size=3, stride=2, padding=0, dilation=1, ceil_mode=False)\n",
       "    (3): Conv2d(64, 192, kernel_size=(5, 5), stride=(1, 1), padding=(2, 2))\n",
       "    (4): ReLU(inplace=True)\n",
       "    (5): MaxPool2d(kernel_size=3, stride=2, padding=0, dilation=1, ceil_mode=False)\n",
       "    (6): Conv2d(192, 384, kernel_size=(3, 3), stride=(1, 1), padding=(1, 1))\n",
       "    (7): ReLU(inplace=True)\n",
       "    (8): Conv2d(384, 256, kernel_size=(3, 3), stride=(1, 1), padding=(1, 1))\n",
       "    (9): ReLU(inplace=True)\n",
       "    (10): Conv2d(256, 256, kernel_size=(3, 3), stride=(1, 1), padding=(1, 1))\n",
       "    (11): ReLU(inplace=True)\n",
       "    (12): MaxPool2d(kernel_size=3, stride=2, padding=0, dilation=1, ceil_mode=False)\n",
       "  )\n",
       "  (avgpool): AdaptiveAvgPool2d(output_size=(6, 6))\n",
       "  (classifier): Sequential(\n",
       "    (0): Dropout(p=0.5, inplace=False)\n",
       "    (1): Linear(in_features=9216, out_features=4096, bias=True)\n",
       "    (2): ReLU(inplace=True)\n",
       "    (3): Dropout(p=0.5, inplace=False)\n",
       "    (4): Linear(in_features=4096, out_features=4096, bias=True)\n",
       "    (5): ReLU(inplace=True)\n",
       "    (6): Linear(in_features=4096, out_features=4, bias=True)\n",
       "    (7): LogSoftmax(dim=1)\n",
       "  )\n",
       ")"
      ]
     },
     "execution_count": 25,
     "metadata": {},
     "output_type": "execute_result"
    }
   ],
   "source": [
    "# Precisamos mudar a última camada para alterar o número de classes\n",
    "# O restante da rede foi aproveitado, porém precisamos que ela aprenda os padrões dentro das nossas 4 classes\n",
    "\n",
    "alexnet.classifier[6] = nn.Linear(4096, numero_de_classes)\n",
    "\n",
    "# Incluindo o softmax, que converte efetivamente em probabilidade de ser uma das 4 classas:\n",
    "alexnet.classifier.add_module(\"7\", nn.LogSoftmax(dim = 1))\n",
    "\n",
    "alexnet"
   ]
  },
  {
   "cell_type": "code",
   "execution_count": 26,
   "id": "a8b8cfb0-6e65-411b-8ad4-194508ab595c",
   "metadata": {},
   "outputs": [
    {
     "data": {
      "text/plain": [
       "True"
      ]
     },
     "execution_count": 26,
     "metadata": {},
     "output_type": "execute_result"
    }
   ],
   "source": [
    "parametros_ultima_camada = alexnet.classifier[6].parameters()\n",
    "\n",
    "[parametro for parametro in parametros_ultima_camada][0].requires_grad"
   ]
  },
  {
   "cell_type": "code",
   "execution_count": 27,
   "id": "8c8e5c1c-0845-46c8-a556-a6125ddbfec2",
   "metadata": {},
   "outputs": [],
   "source": [
    "# Vamos utilizar a função de erro de entropia cruzada, o mais utilizado em problemas de classficiação:\n",
    "\n",
    "funcao_erro = nn.CrossEntropyLoss()"
   ]
  },
  {
   "cell_type": "markdown",
   "id": "53ea4a03-70bb-4617-aefa-2638fa3068ef",
   "metadata": {},
   "source": [
    "<b>Otimizador:</b>\n",
    "\n",
    "O otimizador é quem efetivamente altera os pesos da rede de acordo com algum algoritmo. Nesse caso, vamos utilizar o Adam Optimizer, mas o Stochastic Gradient Descent também funciona."
   ]
  },
  {
   "cell_type": "code",
   "execution_count": 28,
   "id": "d1784ac7-6ed5-49b9-a193-cdef9826a8f3",
   "metadata": {},
   "outputs": [
    {
     "data": {
      "text/plain": [
       "Adam (\n",
       "Parameter Group 0\n",
       "    amsgrad: False\n",
       "    betas: (0.9, 0.999)\n",
       "    capturable: False\n",
       "    differentiable: False\n",
       "    eps: 1e-08\n",
       "    foreach: None\n",
       "    fused: None\n",
       "    lr: 0.001\n",
       "    maximize: False\n",
       "    weight_decay: 0\n",
       ")"
      ]
     },
     "execution_count": 28,
     "metadata": {},
     "output_type": "execute_result"
    }
   ],
   "source": [
    "# Passando os parâmetros para o otimizador alterá-los:\n",
    "otimizador = optim.Adam(alexnet.parameters())\n",
    "otimizador"
   ]
  },
  {
   "cell_type": "markdown",
   "id": "4964143b-3788-4130-8b1c-8e5069bc43c7",
   "metadata": {},
   "source": [
    "<b>Treinar e Validar:</b>\n",
    "\n",
    "O treinamento realiza vários caminhos para frente (forward:previsão -- começa com uma previsão fraca e conforme ele anda pra frente e pra trás ele vai melhorando as previsões), cálculos de erro (distancia entre previsão e valor real) e para traz (backward: aprendizado com o erro). A cade \"época\" todas as imagens do treino são utilizadas para otimizar os parâmetros da rede. Dentro de cada \"época\", utilizamos o treinamento em batch, ao invés de imagem por imagem.\n",
    "\n",
    "Na validação não queremos manter o cálculo de gradientes, pois não vamos fazer backpropagation."
   ]
  },
  {
   "cell_type": "code",
   "execution_count": 29,
   "id": "af73010a-bc1c-4e36-b0d0-e07709898666",
   "metadata": {},
   "outputs": [],
   "source": [
    "def treinar_e_validar(modelo, metrica_erro, otimizador, epocas=10):\n",
    "    '''\n",
    "    Função para treinamento e validação\n",
    "    Parâmetros\n",
    "        :param modelo: modelo para treinar e validar\n",
    "        :param metrica_erro: critério de erro para minização\n",
    "        :param otimizador: otimizador para alterar os parâmetros da rede\n",
    "        :param epocas: número de épocas (default=10)\n",
    "  \n",
    "    Retorna\n",
    "        melhor_modelo: modelo treinado com a melhor acurácia na validação\n",
    "        historico: (dicionário): histórico com erro no treinamento, erro na validação e acurácia\n",
    "    '''\n",
    "    \n",
    "    # inicializando historico\n",
    "    # a melhor acuracia de validação\n",
    "    # melhor modelo de acordo com a validação\n",
    "    historico = []\n",
    "    melhor_acuracia = 0.0\n",
    "    melhor_modelo = None\n",
    "    \n",
    "    # A CPU provavelmente vai dar conta do recado!\n",
    "    device = torch.device(\"cuda:0\" if torch.cuda.is_available() else \"cpu\")\n",
    "    \n",
    "    print(device)\n",
    "    \n",
    "    # Cada época perpassa todas as imagens do treino e calcula erros de treino e validação\n",
    "    # para aprendizado da rede neural\n",
    "    for epoca in range(epocas):\n",
    "        inicio_epoca = time.time()\n",
    "        print(\"\\n\\nÉpoca: {}/{}\".format(epoca+1, epocas))\n",
    "        \n",
    "        # Erro e acurácia de treino nessa época\n",
    "        erro_treino = 0.0\n",
    "        acertos_treino = 0.0\n",
    "        \n",
    "        # Erro e acurácia de validação nessa época\n",
    "        erro_validacao = 0.0\n",
    "        acertos_validacao = 0.0\n",
    "        \n",
    "        # Itera a cada lote de imagem. As entradas são os tensores do lote (batch)\n",
    "        # e o label são as classificações de cada imagem do lote: \n",
    "        # batata, cenoura, limão e tomate (0, 1, 2 e 3)\n",
    "        for i, (imagens_lote, y_reais) in enumerate(data_loader_treino):\n",
    "            print(f\"\\nLote: {i+1}\\n\")\n",
    "            \n",
    "            # joga pra GPU ou CPU, dependendo do seu hardware e pytorch instalado\n",
    "            imagens_lote = imagens_lote.to(device)\n",
    "            y_reais = y_reais.to(device)\n",
    "            \n",
    "            # Limpar os gradientes: zerar os gradientes\n",
    "            otimizador.zero_grad()\n",
    "\n",
    "            # Forward pass - calcular saídas a partir das entradas utilizando o modelo\n",
    "            # Como o lote tem 8 imagens, teremos 8 previsões\n",
    "            previsoes = modelo(imagens_lote)\n",
    "\n",
    "\n",
    "            '''\n",
    "            # Vamos entender melhor o que está se passando!\n",
    "            print(imagens_lote.size()) # temos um tensor com 8 imagens\n",
    "            print(previsoes) # temos tensor com 8 previsoes, cada um com 4 valores de log probabilidade\n",
    "            print(torch.exp(previsoes)) # convertendo para exponencial para termos probabilidades de verdade\n",
    "           \n",
    "            print(torch.max(previsoes.data, 1))\n",
    "           \n",
    "            # Dando uma olhada nos y_reais\n",
    "            print(y_reais)\n",
    "\n",
    "\n",
    "            # Vamos dar uma olhadinha nas imagens do batch!\n",
    "            for indice in range(tamanho_do_batch):\n",
    "                tensor_para_imagem = transforms.ToPILImage()\n",
    "                imagem = tensor_para_imagem(imagens_lote[indice])\n",
    "                display(imagem)\n",
    "\n",
    "            break\n",
    "            '''\n",
    "                \n",
    "            # Calcular erro das saidas que foram preditas no forward pass\n",
    "            # comparando com as classificacoes reais (predito vs real)\n",
    "            # e retorna a média dos erros (são 8 erros, lembra?)\n",
    "            erro = metrica_erro(previsoes, y_reais)\n",
    "           \n",
    "            # O backpropagation é a junção do erro.backward() + otimizador.step()\n",
    "            # erro.backward() calcula os gradientes, ou seja, qual a direção \n",
    "            # dos coeficientes para reduzir o erro\n",
    "            # otimizador.step() atualiza os coeficientes de acordo com os gradientes\n",
    "            # calculados no passo anterior\n",
    "            \n",
    "            # Realizar o cálculo dos gradientes a partir do erro de predição\n",
    "            # O otimizador vai utilizar esses gradientes para saber\n",
    "            # qual a direção deve atualizar os coeficientes da rede\n",
    "            erro.backward()\n",
    "            \n",
    "            # Atualizar os parâmetros da rede de acordo com os gradientes calculados no backward\n",
    "            otimizador.step()\n",
    "            \n",
    "            # Daqui pra frente são os cálculos de acurácia\n",
    "            # para avaliar a evolução do modelo durante o treinamento\n",
    "            # nas épocas\n",
    "            \n",
    "            # Calcular o erro total para esse lote (batch) e soma o erro no treino\n",
    "            # O erro calculado já é a média dos 8 erros, portanto temos que multiplicar\n",
    "            # pela quantidade de imagens do lote\n",
    "            erro_treino += erro.item() * imagens_lote.size(0)\n",
    "            \n",
    "            # Cálculo da acurácia\n",
    "            # Pra calcular a acurácia temos que buscar as classes preditas para cada imagem no lote\n",
    "            \n",
    "            # Cada tensor é uma imagem do lote com três posições: probabilidades de cada classe\n",
    "            # torch.max vai retornar o valor da maior probabilidade, \n",
    "            # bem como a posição no tensor (tupla de saída)\n",
    "            # A posição, portanto, vai indicar a classe com maior probabilidade (0,1,2 e 3)\n",
    "            # 1o busca o valor máximo de cada tensor de cada imagem, que vai dar \n",
    "            # a classe final predita\n",
    "            _, classes_previstas = torch.max(previsoes.data, 1)\n",
    "            predicoes_corretas = (classes_previstas == y_reais).type(torch.FloatTensor)\n",
    "            \n",
    "            # Converter os acertos para float e calcular a acurácia média\n",
    "            # do lote\n",
    "            acertos = torch.mean(predicoes_corretas)\n",
    "            \n",
    "            # Calcular a acurácia total de treino do lote todo e adicionar a em train_acc\n",
    "            acertos_treino += torch.sum(predicoes_corretas)\n",
    "            \n",
    "            #print(\"Treino - Lote número {:03d}, Erro: {:.4f}, Acurácia: {:.4f}\".format(i, erro.item(), acuracia.item()))\n",
    "\n",
    "            \n",
    "        # Validação - não é necessário rastrear os gradientes, pois o modelo não vai ser treinado com a validação\n",
    "        # \"desliga\" o autograd\n",
    "        with torch.no_grad():\n",
    "\n",
    "            # Mudando de treino para validação\n",
    "            modelo.eval()\n",
    "\n",
    "            # Iteração de validação\n",
    "            for j, (imagens_lote, y_reais) in enumerate(data_loader_validacao):\n",
    "                imagens_lote = imagens_lote.to(device)\n",
    "                y_reais = y_reais.to(device)\n",
    "\n",
    "                # Forward pass de validação\n",
    "                # Previsão do modelo treinado nessa época\n",
    "                previsoes = modelo(imagens_lote)\n",
    "\n",
    "                # Calcular erro de validação\n",
    "                # Previsto versus os verdadeiros hortifruti\n",
    "                erro = metrica_erro(previsoes, y_reais)\n",
    "\n",
    "                # Calcular erro de validação e adicionar a valid_loss\n",
    "                erro_validacao += erro.item() * imagens_lote.size(0)\n",
    "\n",
    "                # Calcular a acurácia de validação\n",
    "                _, classes_previstas = torch.max(previsoes.data, 1)\n",
    "                predicoes_corretas = (classes_previstas == y_reais).type(torch.FloatTensor)\n",
    "\n",
    "                # Converter os acertos para float e calcular a acurácia média\n",
    "                acertos = torch.mean(predicoes_corretas)\n",
    "\n",
    "                # Calcular a acurácia total de validação do lote todo e adicionar a em train_acc\n",
    "                acertos_validacao += torch.sum(predicoes_corretas)\n",
    "\n",
    "                #print(\"Validação - Lote número: {:03d}, Erro: {:.4f}, Acurácia: {:.4f}\".format(j, erro.item(), acuracia.item()))\n",
    "        \n",
    "        #break\n",
    "        \n",
    "        # Calcular a média de erro e acurácia no treino\n",
    "        erro_medio_treino = erro_treino/num_imagens_treino\n",
    "        acuracia_media_treino = acertos_treino/num_imagens_treino\n",
    "\n",
    "        # Calcular a média de erro e acurácia na validação\n",
    "        erro_medio_validacao = erro_validacao/num_imagens_validacao\n",
    "        acuracia_media_validacao = acertos_validacao/num_imagens_validacao\n",
    "\n",
    "        # Incluir no histórico os erros e acurácias méidas\n",
    "        historico.append([erro_medio_treino, erro_medio_validacao, acuracia_media_treino, acuracia_media_validacao])\n",
    "                \n",
    "        fim_epoca = time.time()\n",
    "    \n",
    "        print(\"Época : {:03d}, Treino: Erro: {:.4f}, Acurácia: {:.4f}%, \\n\\t\\tValidação : Erro : {:.4f}, Acurácia: {:.4f}%, Tempo: {:.4f}s\".format(epoca+1, erro_medio_treino, acuracia_media_treino*100, erro_medio_validacao, acuracia_media_validacao*100, fim_epoca-inicio_epoca))\n",
    "        \n",
    "        # Testa se a acurácia na validação desse modelo nessa época é a melhor\n",
    "        # Se for a melhor, salva no melhor modelo e na melhor acurácia\n",
    "        if acuracia_media_validacao > melhor_acuracia:\n",
    "            melhor_acuracia = acuracia_media_validacao\n",
    "            #torch.save(modelo, './modelos/melhor_modelo.pt')\n",
    "            melhor_modelo = modelo\n",
    "\n",
    "    return melhor_modelo, historico"
   ]
  },
  {
   "cell_type": "code",
   "execution_count": null,
   "id": "9cb80576-9f5d-4e66-ad8f-d94fc4a5f196",
   "metadata": {},
   "outputs": [],
   "source": []
  },
  {
   "cell_type": "code",
   "execution_count": null,
   "id": "92fc4c24-4cad-4dc5-a485-2520754e7584",
   "metadata": {},
   "outputs": [],
   "source": []
  },
  {
   "cell_type": "code",
   "execution_count": null,
   "id": "ed03cfca-8afa-4012-9bb6-91bce6dbc044",
   "metadata": {},
   "outputs": [],
   "source": []
  }
 ],
 "metadata": {
  "kernelspec": {
   "display_name": "Python 3 (ipykernel)",
   "language": "python",
   "name": "python3"
  },
  "language_info": {
   "codemirror_mode": {
    "name": "ipython",
    "version": 3
   },
   "file_extension": ".py",
   "mimetype": "text/x-python",
   "name": "python",
   "nbconvert_exporter": "python",
   "pygments_lexer": "ipython3",
   "version": "3.10.9"
  }
 },
 "nbformat": 4,
 "nbformat_minor": 5
}
