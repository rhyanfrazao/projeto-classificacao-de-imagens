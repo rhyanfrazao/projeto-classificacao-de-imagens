{
 "cells": [
  {
   "cell_type": "markdown",
   "id": "8e22dd1a-1285-4655-90dc-5f4a083ae145",
   "metadata": {},
   "source": [
    "# <a>Classificação de Imagens - PyTorch e Transfer Learning</a>\n",
    "\n",
    "Projeto realizado durante a Jornada Cientista de Dados da equipe <i>Let's Data</i>"
   ]
  },
  {
   "cell_type": "markdown",
   "id": "2cb445d1-c78d-429c-8649-74f048c4bab6",
   "metadata": {},
   "source": [
    "# <a>Objeto de Estudo</a>\n",
    "\n",
    "Iremos modelar um Produto Mínimo Viável que possa ser testado nas filiais de uma empresa do ramo de supermercados. O problema a ser solucionado é classificar produtos na hora de colocar no mostruário. Vamos começar com uma classificação simples de batatas, cenouras, tomates e limões.\n",
    "\n",
    "Para isso iremos usar modelos pré-treinados para nos ajudar com a classificação de imagens através dos padrões."
   ]
  },
  {
   "cell_type": "code",
   "execution_count": null,
   "id": "1a72ac03-c356-4f67-8b88-56c07100893f",
   "metadata": {},
   "outputs": [],
   "source": []
  },
  {
   "cell_type": "code",
   "execution_count": null,
   "id": "8089f6ed-f80e-45c2-a0de-1256dd56f827",
   "metadata": {},
   "outputs": [],
   "source": []
  },
  {
   "cell_type": "code",
   "execution_count": null,
   "id": "2ff5ca8a-778d-4466-916b-1e0041dcb8c0",
   "metadata": {},
   "outputs": [],
   "source": []
  },
  {
   "cell_type": "code",
   "execution_count": null,
   "id": "677c96fb-2c8e-4fd7-a8ab-a99a1c6e68c7",
   "metadata": {},
   "outputs": [],
   "source": []
  },
  {
   "cell_type": "code",
   "execution_count": null,
   "id": "beb099d6-0fdb-4087-a8b9-b639deace967",
   "metadata": {},
   "outputs": [],
   "source": []
  }
 ],
 "metadata": {
  "kernelspec": {
   "display_name": "Python 3 (ipykernel)",
   "language": "python",
   "name": "python3"
  },
  "language_info": {
   "codemirror_mode": {
    "name": "ipython",
    "version": 3
   },
   "file_extension": ".py",
   "mimetype": "text/x-python",
   "name": "python",
   "nbconvert_exporter": "python",
   "pygments_lexer": "ipython3",
   "version": "3.10.9"
  }
 },
 "nbformat": 4,
 "nbformat_minor": 5
}
